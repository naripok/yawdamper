{
 "cells": [
  {
   "cell_type": "markdown",
   "metadata": {},
   "source": [
    "# Manual de Ajuste - Yawdamper Y001\n",
    "\n",
    "### Indice:\n",
    "\n",
    "- Introdução\n",
    "    - Descrição do Ecrã\n",
    "    - Descrição da Interface\n",
    "- Ajustes\n",
    "    - Modo Usuário\n",
    "        - Ajuste Usuário\n",
    "    - *Power User*\n",
    "        - Filtro\n",
    "        - PID\n",
    "        - Gyroscopio\n",
    "        - Orientação\n",
    "        - Ajuste *Power User*\n",
    "- Perguntas Frequêntes\n",
    "- Suporte Técnico"
   ]
  },
  {
   "cell_type": "markdown",
   "metadata": {},
   "source": [
    "## Introdução\n",
    ".  \n",
    ".  \n",
    "Este é o manual de ajuste referente ao módulo yawdamper Y001. Neste manual explicaremos o funcionamento do módulo, bem como realizar seu ajuste para obter o melhor desempenho possível em sua aeronave.\n",
    "  \n",
    "O módulo yawdamper Y001 conta com 3 sensores de aceleração e 3 gyroscopios, ambos do tipo massa de prova microscópica. Este tipo de sensor oferece excelente precisão e estabilidade enquanto evita o gasto de energia e desgaste desnecessários associados a sensores de massa de prova macroscópicos. Baseando-se nas leituras desses sensores, o módulo calcula o melhor estado para seu compensador de leme e ajusta sua posição em tempo real para manter o avião sempre coordenado.  \n",
    "  \n",
    "Para realizar o cálculo do melhor angulo de compensador, o módulo utiliza o algoritmo de controle de malha fechada PID sobre o erro de aceleração somado ao controle diferencial sobre a taxa de giro da aeronave. Estes algorítimos e seus ajustes serão explicados detalhadamente nos próximos capítulos.  \n",
    ".  \n",
    ".  \n",
    "### Descrição do Ecrã\n",
    "\n",
    "![ecra](./ecra1.png)\n",
    "\n",
    "- Indicador ON - OFF\n",
    "    - Indicação de modo automatico (ON) - modo trim manual (OFF)\n",
    "- X\n",
    "    - Indicador de atividade\n",
    "- TO1\n",
    "    - Tempo desde a ativação em minutos (no exemplo, TO1 significa 1 minutos desde a ativação)\n",
    "- Bastões externos\n",
    "    - Indicam os limites de atividade da bola e dos indicadores de gyroscopio e compensador. (Ver a seguir)\n",
    "    - Só são mostrados no modo automatico. (indicador ON)\n",
    "- Bola\n",
    "    - Indicador de estado de leitura dos acelerometros. Identica a bola do \"Pau e Bola\"\n",
    "- Primeira barra vertical\n",
    "    - Indicador de estado de leitura dos gyroscopios. Indica o sentido de giro da aeronave (yaw).\n",
    "- Segunda barra vertical\n",
    "    - Indicador de posição do compensador do leme.\n",
    "    \n",
    "### Descrição da Interface\n",
    "\n"
   ]
  },
  {
   "cell_type": "markdown",
   "metadata": {},
   "source": [
    "# Ajustes\n",
    "## Modo Usuário\n",
    "  \n",
    "  No modo Usuário, o piloto tem acesso a ajustes mínimos para compensação de variações nas condições de voo, como mudanças na velocidade de cruzeiro e variações de pressão atmosferica. Essas condições influenciam no desempenho do módulo, porém nem sempre são significativas o suficiente para mudar a dinâmica da aeronave. No advento de mudanças significativas, notar-se-a insuficiência da ativação do compensador, ou ainda atividade demasiada do mesmo."
   ]
  },
  {
   "cell_type": "code",
   "execution_count": null,
   "metadata": {},
   "outputs": [],
   "source": []
  }
 ],
 "metadata": {
  "kernelspec": {
   "display_name": "Python 3",
   "language": "python",
   "name": "python3"
  },
  "language_info": {
   "codemirror_mode": {
    "name": "ipython",
    "version": 3
   },
   "file_extension": ".py",
   "mimetype": "text/x-python",
   "name": "python",
   "nbconvert_exporter": "python",
   "pygments_lexer": "ipython3",
   "version": "3.6.5"
  }
 },
 "nbformat": 4,
 "nbformat_minor": 2
}
